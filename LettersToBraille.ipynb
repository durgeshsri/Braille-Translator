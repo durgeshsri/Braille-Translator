{
 "cells": [
  {
   "cell_type": "code",
   "execution_count": 7,
   "metadata": {},
   "outputs": [],
   "source": [
    "#Translation of Alphabets to Braille\n",
    "import LettersToBrailleData"
   ]
  },
  {
   "cell_type": "code",
   "execution_count": 61,
   "metadata": {},
   "outputs": [],
   "source": [
    "CAPITAL = chr(10272) #  .\n",
    "NUMBER = chr(10300) #  ⠼\n",
    "UNRECOGNIGED = '?'\n",
    "#There is  braille symbol for only open(\") and close(\") quotation not for a generic quote(\")\n",
    "#therefore we must keep track of what the last quotation was so that we may convert the generic quotation to a specific one\n",
    "open_quotes = True "
   ]
  },
  {
   "cell_type": "code",
   "execution_count": 19,
   "metadata": {},
   "outputs": [],
   "source": [
    "#Split up a sentence based on whitespace(\" \") and new line(\"\\n\") chars.\n",
    "def extract_words(string):\n",
    "    #WO = string.split(\".\")\n",
    "    words = string.split(\" \")\n",
    "    result = []\n",
    "    for word in words:\n",
    "        temp = word.split(\"\\n\")\n",
    "        for item in temp:\n",
    "            result.append(item)\n",
    "    return result"
   ]
  },
  {
   "cell_type": "code",
   "execution_count": 123,
   "metadata": {},
   "outputs": [],
   "source": [
    "#Return True if a char is Braille.\n",
    "def is_braille(char):\n",
    "    if len(char) > 1:\n",
    "        return False\n",
    "    return char in LettersToBrailleData.letters or char in LettersToBrailleData.numbers or char in LettersToBrailleData.punctuation or char in LettersToBrailleData.contractions or char == CAPITAL or char == NUMBER"
   ]
  },
  {
   "cell_type": "code",
   "execution_count": 32,
   "metadata": {},
   "outputs": [],
   "source": [
    "#Remove punctuation a word. as durgesh.\" >durgesh\n",
    "def trim(word):\n",
    "    while len(word) is not 0 and not word[0].isalnum():\n",
    "        word = word[1:]\n",
    "    while len(word) is not 0 and not word[-1].isalnum():\n",
    "        word = word[:-1]\n",
    "    return word"
   ]
  },
  {
   "cell_type": "code",
   "execution_count": 132,
   "metadata": {},
   "outputs": [],
   "source": [
    "#Replace each group of numbers in a world to their respective braille representation.\n",
    "def numbers_handler(word):\n",
    "    if word == \"\":\n",
    "        return word\n",
    "    result = word[0]\n",
    "    if word[0].isdigit():\n",
    "        result = NUMBER + LettersToBrailleData.numbers.get(word[0])\n",
    "    for i in range(1, len(word)):\n",
    "        if word[i].isdigit() and word[i-1].isdigit():\n",
    "            result += LettersToBrailleData.numbers.get(word[i])\n",
    "        elif word[i].isdigit():\n",
    "            result += NUMBER + LettersToBrailleData.numbers.get(word[i])\n",
    "        else:\n",
    "            result +=word[i]\n",
    "    return result"
   ]
  },
  {
   "cell_type": "code",
   "execution_count": 134,
   "metadata": {},
   "outputs": [
    {
     "data": {
      "text/plain": [
       "'Dur ⠼⠑ '"
      ]
     },
     "execution_count": 134,
     "metadata": {},
     "output_type": "execute_result"
    }
   ],
   "source": [
    "numbers_handler(\"Dur 5 \")"
   ]
  },
  {
   "cell_type": "code",
   "execution_count": 51,
   "metadata": {},
   "outputs": [],
   "source": [
    "#putting the escape code before each capital letter.\n",
    "def capital_letter_handler(word):\n",
    "    if word == \"\":\n",
    "        return word\n",
    "    result = \"\"\n",
    "    for char in word:\n",
    "        if char.isupper():\n",
    "            result += CAPITAL + char.lower()\n",
    "        else:\n",
    "            result += char.lower()\n",
    "    return result"
   ]
  },
  {
   "cell_type": "code",
   "execution_count": 161,
   "metadata": {},
   "outputs": [
    {
     "data": {
      "text/plain": [
       "'⠠durgesh'"
      ]
     },
     "execution_count": 161,
     "metadata": {},
     "output_type": "execute_result"
    }
   ],
   "source": [
    "capital_letter_handler(\"Durgesh\")"
   ]
  },
  {
   "cell_type": "code",
   "execution_count": 135,
   "metadata": {},
   "outputs": [
    {
     "data": {
      "text/plain": [
       "'⠠dur 5 ⠠g'"
      ]
     },
     "execution_count": 135,
     "metadata": {},
     "output_type": "execute_result"
    }
   ],
   "source": [
    "capital_letter_handler(\"Dur 5 G\")"
   ]
  },
  {
   "cell_type": "code",
   "execution_count": 55,
   "metadata": {},
   "outputs": [],
   "source": [
    "#Find the UTF code of a particular character. Used what an unidentified char is found.\n",
    "def find_utf_code(char):\n",
    "    if len(char)!=1:\n",
    "        return -1\n",
    "    for i in range(0,55000):\n",
    "        if char == chr(i):\n",
    "            return i"
   ]
  },
  {
   "cell_type": "code",
   "execution_count": 155,
   "metadata": {},
   "outputs": [],
   "source": [
    "#Convert an alphabetic char to braille.\n",
    "def char_to_braille(char):\n",
    "    if is_braille(char):\n",
    "        return char\n",
    "    elif char == \"\\n\":\n",
    "        return \"\\n\"\n",
    "    elif char == \"\\\"\":\n",
    "        global open_quotes\n",
    "        if open_quotes:\n",
    "            open_quotes = not open_quotes\n",
    "            return LettersToBrailleData.punctuation.get(\"“\")\n",
    "        else:\n",
    "            open_quotes = not open_quotes\n",
    "            return LettersToBrailleData.punctuation.get(\"”\")\n",
    "    elif char in LettersToBrailleData.letters and char.isupper():\n",
    "        return CAPITAL + LettersToBrailleData.letters.get(char)\n",
    "    elif char in LettersToBrailleData.letters:\n",
    "        return LettersToBrailleData.letters.get(char)\n",
    "    elif char in LettersToBrailleData.punctuation:\n",
    "        return LettersToBrailleData.puntuation.get(char)\n",
    "    else:\n",
    "        print(\"Unrecognised sysmbol:\", char,\"With UTF code:\", find_utf_code(char))\n",
    "        return UNRECOGNIZED"
   ]
  },
  {
   "cell_type": "code",
   "execution_count": 156,
   "metadata": {},
   "outputs": [],
   "source": [
    "#Convert an alphabetic word to braille\n",
    "def word_to_braille(word):\n",
    "    if word in LettersToBrailleData.contractions:\n",
    "        return LettersToBrailleData.contractions.get(word)\n",
    "    else:\n",
    "        result = \"\"\n",
    "        for char in word:\n",
    "            result += char_to_braille(char)\n",
    "        return result"
   ]
  },
  {
   "cell_type": "code",
   "execution_count": 157,
   "metadata": {},
   "outputs": [],
   "source": [
    "#Translate a trimmed word to braille then re-attach the shaving.\n",
    "def build_braille_word(trimmed_word, shavings, index, braille):\n",
    "    if shavings == \"\":\n",
    "        braille += word_to_braille(trimmed_word)\n",
    "    else:\n",
    "        for i in range(0, len(shavings)):\n",
    "            if i == index and trimmed_word is not \"\":\n",
    "                braille += word_to_braille(trimmed_word)\n",
    "            braille += word_to_braille(shavings[i])\n",
    "        if index == len(shavings): #If the shavings are all at the begining.\n",
    "            braille += word_to_braille(trimmed_word)\n",
    "    return braille"
   ]
  },
  {
   "cell_type": "code",
   "execution_count": 158,
   "metadata": {},
   "outputs": [],
   "source": [
    "def translate(string):\n",
    "    braille = \"\"\n",
    "    words = extract_words(string)\n",
    "    for word in words:\n",
    "        word = numbers_handler(word)\n",
    "        word = capital_letter_handler(word)\n",
    "        trimmed_word = trim(word) # Remove puntuation\n",
    "        untrimmed_word = word\n",
    "        index = untrimmed_word.find(trimmed_word)\n",
    "        shavings = untrimmed_word.replace(trimmed_word, \"\")\n",
    "        braille = build_braille_word(trimmed_word, shavings, index, braille)+ \" \"\n",
    "    return braille[:-1] #Remove Final Space that was added"
   ]
  },
  {
   "cell_type": "code",
   "execution_count": 166,
   "metadata": {},
   "outputs": [],
   "source": [
    "char = \"Durgesh\""
   ]
  }
 ],
 "metadata": {
  "kernelspec": {
   "display_name": "Python 3",
   "language": "python",
   "name": "python3"
  },
  "language_info": {
   "codemirror_mode": {
    "name": "ipython",
    "version": 3
   },
   "file_extension": ".py",
   "mimetype": "text/x-python",
   "name": "python",
   "nbconvert_exporter": "python",
   "pygments_lexer": "ipython3",
   "version": "3.7.4"
  }
 },
 "nbformat": 4,
 "nbformat_minor": 2
}

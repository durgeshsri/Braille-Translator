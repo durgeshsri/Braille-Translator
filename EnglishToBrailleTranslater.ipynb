{
 "cells": [
  {
   "cell_type": "code",
   "execution_count": 4,
   "metadata": {},
   "outputs": [],
   "source": [
    "import LettersToBrailleData"
   ]
  },
  {
   "cell_type": "code",
   "execution_count": 5,
   "metadata": {},
   "outputs": [],
   "source": [
    "CAPITAL = chr(10272)\n",
    "NUMBER = chr(10300)"
   ]
  },
  {
   "cell_type": "code",
   "execution_count": 17,
   "metadata": {},
   "outputs": [
    {
     "data": {
      "text/plain": [
       "'⠠'"
      ]
     },
     "execution_count": 17,
     "metadata": {},
     "output_type": "execute_result"
    }
   ],
   "source": [
    "CAPITAL"
   ]
  },
  {
   "cell_type": "code",
   "execution_count": 6,
   "metadata": {},
   "outputs": [],
   "source": [
    "def answer(plaintext):\n",
    "    result = \"\"\n",
    "    for i in plaintext:\n",
    "        if i.isupper():\n",
    "            i = i.lower()\n",
    "            result += CAPITAL+LettersToBrailleData.letters.get(i)\n",
    "        elif i.islower():\n",
    "            result += LettersToBrailleData.letters.get(i)  \n",
    "        elif i.isdigit():\n",
    "            result += NUMBER+LettersToBrailleData.numbers.get(i)\n",
    "        elif i in LettersToBrailleData.punctuation:\n",
    "            result += LettersToBrailleData.punctuation.get(i)\n",
    "        else:\n",
    "            result += \"  \"\n",
    "    return result"
   ]
  },
  {
   "cell_type": "code",
   "execution_count": 7,
   "metadata": {},
   "outputs": [],
   "source": [
    "x = \"\"\"A paragraph is a group of words put together to form a group that is usually longer than a sentence. Paragraphs are often made up of several sentences. There are usually between three and eight sentences. ... Each paragraph may have a number of sentences, depending on the topic\"\"\""
   ]
  },
  {
   "cell_type": "code",
   "execution_count": 8,
   "metadata": {},
   "outputs": [
    {
     "data": {
      "text/plain": [
       "'⠠⠁  ⠏⠁⠗⠁⠛⠗⠁⠏⠓  ⠊⠎  ⠁  ⠛⠗⠕⠥⠏  ⠕⠋  ⠺⠕⠗⠙⠎  ⠏⠥⠞  ⠞⠕⠛⠑⠞⠓⠑⠗  ⠞⠕  ⠋⠕⠗⠍  ⠁  ⠛⠗⠕⠥⠏  ⠞⠓⠁⠞  ⠊⠎  ⠥⠎⠥⠁⠇⠇⠽  ⠇⠕⠝⠛⠑⠗  ⠞⠓⠁⠝  ⠁  ⠎⠑⠝⠞⠑⠝⠉⠑⠲  ⠠⠏⠁⠗⠁⠛⠗⠁⠏⠓⠎  ⠁⠗⠑  ⠕⠋⠞⠑⠝  ⠍⠁⠙⠑  ⠥⠏  ⠕⠋  ⠎⠑⠧⠑⠗⠁⠇  ⠎⠑⠝⠞⠑⠝⠉⠑⠎⠲  ⠠⠞⠓⠑⠗⠑  ⠁⠗⠑  ⠥⠎⠥⠁⠇⠇⠽  ⠃⠑⠞⠺⠑⠑⠝  ⠞⠓⠗⠑⠑  ⠁⠝⠙  ⠑⠊⠛⠓⠞  ⠎⠑⠝⠞⠑⠝⠉⠑⠎⠲  ⠲⠲⠲  ⠠⠑⠁⠉⠓  ⠏⠁⠗⠁⠛⠗⠁⠏⠓  ⠍⠁⠽  ⠓⠁⠧⠑  ⠁  ⠝⠥⠍⠃⠑⠗  ⠕⠋  ⠎⠑⠝⠞⠑⠝⠉⠑⠎⠂  ⠙⠑⠏⠑⠝⠙⠊⠝⠛  ⠕⠝  ⠞⠓⠑  ⠞⠕⠏⠊⠉'"
      ]
     },
     "execution_count": 8,
     "metadata": {},
     "output_type": "execute_result"
    }
   ],
   "source": [
    "answer(x)"
   ]
  },
  {
   "cell_type": "code",
   "execution_count": 16,
   "metadata": {},
   "outputs": [
    {
     "data": {
      "text/plain": [
       "'⠠⠃'"
      ]
     },
     "execution_count": 16,
     "metadata": {},
     "output_type": "execute_result"
    }
   ],
   "source": [
    "answer('B')"
   ]
  },
  {
   "cell_type": "code",
   "execution_count": null,
   "metadata": {},
   "outputs": [],
   "source": []
  }
 ],
 "metadata": {
  "kernelspec": {
   "display_name": "Python 3",
   "language": "python",
   "name": "python3"
  },
  "language_info": {
   "codemirror_mode": {
    "name": "ipython",
    "version": 3
   },
   "file_extension": ".py",
   "mimetype": "text/x-python",
   "name": "python",
   "nbconvert_exporter": "python",
   "pygments_lexer": "ipython3",
   "version": "3.7.4"
  }
 },
 "nbformat": 4,
 "nbformat_minor": 2
}
